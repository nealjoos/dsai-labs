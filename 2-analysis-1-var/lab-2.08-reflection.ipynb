{
 "cells": [
  {
   "attachments": {},
   "cell_type": "markdown",
   "metadata": {},
   "source": [
    "# Lab 2.08 - Univariate Analysis: Reflection exercises\n",
    "\n",
    "## Exercise 8.1 - retrieval practice: analysis of 1 variable\n",
    "\n",
    "Use the procedure for retrieval practice from the similar exercises in Module 1 to study the techniques for analysis and visualization of a single variable.\n",
    "\n",
    "For each measurement level, provide:\n",
    "\n",
    "- The appropriate measures for central tendency and dispersion (name, definitions and formulas)\n",
    "- The appropriate graph types\n"
   ]
  },
  {
   "cell_type": "markdown",
   "metadata": {},
   "source": [
    "## Exercise 8.2 - sample mean and sample variance of a frequency table\n",
    "\n",
    "Consider the formulas for the sample mean $\\overline{x}$, the sample variance $s^2$ and the standard deviation $s$. How should these formulas be adapted to calculate these values when we are dealing with a frequency table? A frequency table gives an overview of how often each different value (of a qualitative variable) occurs in the sample.\n",
    "\n",
    "Apply your formula to the data in the table below:\n",
    "\n",
    "| Pins $s$ | Frequency $f_x$ |\n",
    "| :------: | :-------------: |\n",
    "|    0     |        2        |\n",
    "|    1     |        1        |\n",
    "|    2     |        2        |\n",
    "|    3     |        0        |\n",
    "|    4     |        2        |\n",
    "|    5     |        4        |\n",
    "|    6     |        9        |\n",
    "|    7     |       11        |\n",
    "|    8     |       13        |\n",
    "|    9     |        8        |\n",
    "|    10    |        8        |\n",
    "\n",
    "_While playing a skittles game, the number of pins that were knocked over with each throw is recorded. For each possible score x, the number of times this score was obtained during a throw was recorded._\n",
    "\n",
    "**Results (for your convenience):** $n = 60$, mean = 7, variance ≈ 5.83, standard deviation ≈ 2.41\n"
   ]
  },
  {
   "cell_type": "code",
   "execution_count": 1,
   "metadata": {},
   "outputs": [
    {
     "name": "stderr",
     "output_type": "stream",
     "text": [
      "C:\\Users\\nealj\\AppData\\Local\\Temp\\ipykernel_24564\\2255606428.py:4: DeprecationWarning: \n",
      "Pyarrow will become a required dependency of pandas in the next major release of pandas (pandas 3.0),\n",
      "(to allow more performant data types, such as the Arrow string type, and better interoperability with other libraries)\n",
      "but was not found to be installed on your system.\n",
      "If this would cause problems for you,\n",
      "please provide us feedback at https://github.com/pandas-dev/pandas/issues/54466\n",
      "        \n",
      "  import pandas as pd  # Data Frame\n"
     ]
    }
   ],
   "source": [
    "# Package imports for data science\n",
    "import numpy as np  # Scientific computing\n",
    "import scipy.stats as stats  # Statistical tests\n",
    "import pandas as pd  # Data Frame\n",
    "from pandas.api.types import CategoricalDtype\n",
    "import matplotlib.pyplot as plt  # Basic visualisation\n",
    "from statsmodels.graphics.mosaicplot import mosaic  # Mosaic diagram\n",
    "import seaborn as sns  # Advanced data visualisation"
   ]
  },
  {
   "cell_type": "code",
   "execution_count": 25,
   "metadata": {},
   "outputs": [
    {
     "data": {
      "text/html": [
       "<div>\n",
       "<style scoped>\n",
       "    .dataframe tbody tr th:only-of-type {\n",
       "        vertical-align: middle;\n",
       "    }\n",
       "\n",
       "    .dataframe tbody tr th {\n",
       "        vertical-align: top;\n",
       "    }\n",
       "\n",
       "    .dataframe thead th {\n",
       "        text-align: right;\n",
       "    }\n",
       "</style>\n",
       "<table border=\"1\" class=\"dataframe\">\n",
       "  <thead>\n",
       "    <tr style=\"text-align: right;\">\n",
       "      <th></th>\n",
       "      <th>0</th>\n",
       "    </tr>\n",
       "  </thead>\n",
       "  <tbody>\n",
       "    <tr>\n",
       "      <th>count</th>\n",
       "      <td>60.000000</td>\n",
       "    </tr>\n",
       "    <tr>\n",
       "      <th>mean</th>\n",
       "      <td>7.000000</td>\n",
       "    </tr>\n",
       "    <tr>\n",
       "      <th>std</th>\n",
       "      <td>2.414645</td>\n",
       "    </tr>\n",
       "    <tr>\n",
       "      <th>min</th>\n",
       "      <td>0.000000</td>\n",
       "    </tr>\n",
       "    <tr>\n",
       "      <th>25%</th>\n",
       "      <td>6.000000</td>\n",
       "    </tr>\n",
       "    <tr>\n",
       "      <th>50%</th>\n",
       "      <td>7.000000</td>\n",
       "    </tr>\n",
       "    <tr>\n",
       "      <th>75%</th>\n",
       "      <td>9.000000</td>\n",
       "    </tr>\n",
       "    <tr>\n",
       "      <th>max</th>\n",
       "      <td>10.000000</td>\n",
       "    </tr>\n",
       "  </tbody>\n",
       "</table>\n",
       "</div>"
      ],
      "text/plain": [
       "               0\n",
       "count  60.000000\n",
       "mean    7.000000\n",
       "std     2.414645\n",
       "min     0.000000\n",
       "25%     6.000000\n",
       "50%     7.000000\n",
       "75%     9.000000\n",
       "max    10.000000"
      ]
     },
     "execution_count": 25,
     "metadata": {},
     "output_type": "execute_result"
    }
   ],
   "source": [
    "data = [\n",
    "    [0, 2],\n",
    "    [1, 1],\n",
    "    [2, 2],\n",
    "    [3, 0],\n",
    "    [4, 2],\n",
    "    [5, 4],\n",
    "    [6, 9],\n",
    "    [7, 11],\n",
    "    [8, 13],\n",
    "    [9, 8],\n",
    "    [10, 8],\n",
    "]\n",
    "\n",
    "table = []\n",
    "for e in data:\n",
    "    for i in range(e[1]):\n",
    "        table.append(e[0])\n",
    "\n",
    "df = pd.DataFrame(table)\n",
    "df.describe()"
   ]
  },
  {
   "attachments": {},
   "cell_type": "markdown",
   "metadata": {},
   "source": [
    "## Exercise 8.3 - formula for sample variance\n",
    "\n",
    "In the formula for the sample variance, the difference between the measurement values and the mean is squared. Why? Couldn't we devise a simpler formula that is an equally good measure of the dispersion of a dataset? Here are three proposals (the third one is the \"real\" formula):\n",
    "\n",
    "1. $s_{1}^{2} = \\frac{1}{n-1} \\sum_{i=1}^{n} (\\overline{x} - x_i)$\n",
    "2. $s_{2}^{2} = \\frac{1}{n-1} \\sum_{i=1}^{n} \\left| \\overline{x} - x_i\\right|$\n",
    "3. $s_{3}^{2} = \\frac{1}{n-1} \\sum_{i=1}^{n} (\\overline{x} - x_i)^{2}$\n",
    "\n",
    "Apply each formula to the two data sets below. By comparing the results, you should be able to decide whether the formulas are suitable as a dispersion measure.\n",
    "\n",
    "- $X = \\left\\{ 4,4,-4,-4 \\right\\}$\n",
    "- $Y = \\left\\{ 7,1,-6,-2 \\right\\}$\n"
   ]
  },
  {
   "cell_type": "code",
   "execution_count": 10,
   "metadata": {},
   "outputs": [
    {
     "name": "stdout",
     "output_type": "stream",
     "text": [
      "1: 0.0\n",
      "2: 5.333333333333333\n",
      "3: 30.0\n",
      "std: 4.743416490252569\n"
     ]
    }
   ],
   "source": [
    "x = [4, 4, -4, -4]\n",
    "x = [7, 1, -6, -2]\n",
    "\n",
    "n = len(x)\n",
    "x_bar = np.mean(x)\n",
    "firstpart = 1 / (n - 1)\n",
    "\n",
    "sigma1, sigma2, sigma3 = 0, 0, 0\n",
    "for e in x:\n",
    "    sigma1 += x_bar - e\n",
    "    sigma2 += abs(x_bar - e)\n",
    "    sigma3 += (x_bar - e) ** 2\n",
    "\n",
    "print(f\"1: {firstpart*sigma1}\")\n",
    "print(f\"2: {firstpart*sigma2}\")\n",
    "print(f\"3: {firstpart*sigma3}\")\n",
    "print(f\"std: {np.std(x)}\")"
   ]
  },
  {
   "attachments": {},
   "cell_type": "markdown",
   "metadata": {},
   "source": [
    "## Exercise 8.4 - data visualisation hall of shame\n",
    "\n",
    "Look for examples of bad graphs in news reports, articles, interest group publications, etc.\n",
    "\n",
    "Why is the chosen graph \"bad\"? What mistakes are being made? What changes should be made to correct the graph? Who will find the most ridiculous example of a bad graph within the class group?\n"
   ]
  }
 ],
 "metadata": {
  "kernelspec": {
   "display_name": "venv",
   "language": "python",
   "name": "python3"
  },
  "language_info": {
   "codemirror_mode": {
    "name": "ipython",
    "version": 3
   },
   "file_extension": ".py",
   "mimetype": "text/x-python",
   "name": "python",
   "nbconvert_exporter": "python",
   "pygments_lexer": "ipython3",
   "version": "3.12.3"
  },
  "orig_nbformat": 4
 },
 "nbformat": 4,
 "nbformat_minor": 2
}
