{
 "cells": [
  {
   "cell_type": "markdown",
   "metadata": {},
   "source": [
    "# Lab 2.07 - Univariate Analysis\n",
    "\n",
    "## Exercise 7 - Australian Athletes (ais)\n",
    "\n",
    "Import all necessary Python libraries and load the AIS dataset from lab exercise 1.01. Also include the code for setting the index and conversion to categorical variables!\n"
   ]
  },
  {
   "cell_type": "code",
   "execution_count": 1,
   "metadata": {},
   "outputs": [
    {
     "name": "stderr",
     "output_type": "stream",
     "text": [
      "C:\\Users\\nealj\\AppData\\Local\\Temp\\ipykernel_33428\\2255606428.py:4: DeprecationWarning: \n",
      "Pyarrow will become a required dependency of pandas in the next major release of pandas (pandas 3.0),\n",
      "(to allow more performant data types, such as the Arrow string type, and better interoperability with other libraries)\n",
      "but was not found to be installed on your system.\n",
      "If this would cause problems for you,\n",
      "please provide us feedback at https://github.com/pandas-dev/pandas/issues/54466\n",
      "        \n",
      "  import pandas as pd  # Data Frame\n"
     ]
    }
   ],
   "source": [
    "# Package imports for data science\n",
    "import numpy as np  # Scientific computing\n",
    "import scipy.stats as stats  # Statistical tests\n",
    "import pandas as pd  # Data Frame\n",
    "from pandas.api.types import CategoricalDtype\n",
    "import matplotlib.pyplot as plt  # Basic visualisation\n",
    "from statsmodels.graphics.mosaicplot import mosaic  # Mosaic diagram\n",
    "import seaborn as sns  # Advanced data visualisation"
   ]
  },
  {
   "cell_type": "code",
   "execution_count": 2,
   "metadata": {},
   "outputs": [
    {
     "data": {
      "text/html": [
       "<div>\n",
       "<style scoped>\n",
       "    .dataframe tbody tr th:only-of-type {\n",
       "        vertical-align: middle;\n",
       "    }\n",
       "\n",
       "    .dataframe tbody tr th {\n",
       "        vertical-align: top;\n",
       "    }\n",
       "\n",
       "    .dataframe thead th {\n",
       "        text-align: right;\n",
       "    }\n",
       "</style>\n",
       "<table border=\"1\" class=\"dataframe\">\n",
       "  <thead>\n",
       "    <tr style=\"text-align: right;\">\n",
       "      <th></th>\n",
       "      <th>id</th>\n",
       "      <th>rcc</th>\n",
       "      <th>wcc</th>\n",
       "      <th>hc</th>\n",
       "      <th>hg</th>\n",
       "      <th>ferr</th>\n",
       "      <th>bmi</th>\n",
       "      <th>ssf</th>\n",
       "      <th>pcBfat</th>\n",
       "      <th>lbm</th>\n",
       "      <th>ht</th>\n",
       "      <th>wt</th>\n",
       "      <th>sex</th>\n",
       "      <th>sport</th>\n",
       "    </tr>\n",
       "  </thead>\n",
       "  <tbody>\n",
       "    <tr>\n",
       "      <th>0</th>\n",
       "      <td>1</td>\n",
       "      <td>3.96</td>\n",
       "      <td>7.5</td>\n",
       "      <td>37.5</td>\n",
       "      <td>12.3</td>\n",
       "      <td>60</td>\n",
       "      <td>20.56</td>\n",
       "      <td>109.1</td>\n",
       "      <td>19.75</td>\n",
       "      <td>63.32</td>\n",
       "      <td>195.9</td>\n",
       "      <td>78.9</td>\n",
       "      <td>f</td>\n",
       "      <td>B_Ball</td>\n",
       "    </tr>\n",
       "    <tr>\n",
       "      <th>1</th>\n",
       "      <td>2</td>\n",
       "      <td>4.41</td>\n",
       "      <td>8.3</td>\n",
       "      <td>38.2</td>\n",
       "      <td>12.7</td>\n",
       "      <td>68</td>\n",
       "      <td>20.67</td>\n",
       "      <td>102.8</td>\n",
       "      <td>21.30</td>\n",
       "      <td>58.55</td>\n",
       "      <td>189.7</td>\n",
       "      <td>74.4</td>\n",
       "      <td>f</td>\n",
       "      <td>B_Ball</td>\n",
       "    </tr>\n",
       "    <tr>\n",
       "      <th>2</th>\n",
       "      <td>3</td>\n",
       "      <td>4.14</td>\n",
       "      <td>5.0</td>\n",
       "      <td>36.4</td>\n",
       "      <td>11.6</td>\n",
       "      <td>21</td>\n",
       "      <td>21.86</td>\n",
       "      <td>104.6</td>\n",
       "      <td>19.88</td>\n",
       "      <td>55.36</td>\n",
       "      <td>177.8</td>\n",
       "      <td>69.1</td>\n",
       "      <td>f</td>\n",
       "      <td>B_Ball</td>\n",
       "    </tr>\n",
       "    <tr>\n",
       "      <th>3</th>\n",
       "      <td>4</td>\n",
       "      <td>4.11</td>\n",
       "      <td>5.3</td>\n",
       "      <td>37.3</td>\n",
       "      <td>12.6</td>\n",
       "      <td>69</td>\n",
       "      <td>21.88</td>\n",
       "      <td>126.4</td>\n",
       "      <td>23.66</td>\n",
       "      <td>57.18</td>\n",
       "      <td>185.0</td>\n",
       "      <td>74.9</td>\n",
       "      <td>f</td>\n",
       "      <td>B_Ball</td>\n",
       "    </tr>\n",
       "    <tr>\n",
       "      <th>4</th>\n",
       "      <td>5</td>\n",
       "      <td>4.45</td>\n",
       "      <td>6.8</td>\n",
       "      <td>41.5</td>\n",
       "      <td>14.0</td>\n",
       "      <td>29</td>\n",
       "      <td>18.96</td>\n",
       "      <td>80.3</td>\n",
       "      <td>17.64</td>\n",
       "      <td>53.20</td>\n",
       "      <td>184.6</td>\n",
       "      <td>64.6</td>\n",
       "      <td>f</td>\n",
       "      <td>B_Ball</td>\n",
       "    </tr>\n",
       "  </tbody>\n",
       "</table>\n",
       "</div>"
      ],
      "text/plain": [
       "   id   rcc  wcc    hc    hg  ferr    bmi    ssf  pcBfat    lbm     ht    wt  \\\n",
       "0   1  3.96  7.5  37.5  12.3    60  20.56  109.1   19.75  63.32  195.9  78.9   \n",
       "1   2  4.41  8.3  38.2  12.7    68  20.67  102.8   21.30  58.55  189.7  74.4   \n",
       "2   3  4.14  5.0  36.4  11.6    21  21.86  104.6   19.88  55.36  177.8  69.1   \n",
       "3   4  4.11  5.3  37.3  12.6    69  21.88  126.4   23.66  57.18  185.0  74.9   \n",
       "4   5  4.45  6.8  41.5  14.0    29  18.96   80.3   17.64  53.20  184.6  64.6   \n",
       "\n",
       "  sex   sport  \n",
       "0   f  B_Ball  \n",
       "1   f  B_Ball  \n",
       "2   f  B_Ball  \n",
       "3   f  B_Ball  \n",
       "4   f  B_Ball  "
      ]
     },
     "execution_count": 2,
     "metadata": {},
     "output_type": "execute_result"
    }
   ],
   "source": [
    "ais = pd.read_csv(\"../data/ais.csv\")\n",
    "ais.head()"
   ]
  },
  {
   "cell_type": "markdown",
   "metadata": {},
   "source": [
    "Use an appropriate chart type to visualise the following variables. Are several chart types suitable? Make one of each! Note how some graphs nevertheless give a better insight into the data than other types of graphs.\n",
    "\n",
    "- `sex`\n",
    "- `sport`\n",
    "- `ht` (show this also divided by `sex` and by `sport`.)\n"
   ]
  },
  {
   "cell_type": "code",
   "execution_count": 23,
   "metadata": {},
   "outputs": [
    {
     "data": {
      "text/plain": [
       "<seaborn.axisgrid.FacetGrid at 0x1d92bb845f0>"
      ]
     },
     "execution_count": 23,
     "metadata": {},
     "output_type": "execute_result"
    },
    {
     "data": {
      "image/png": "[encoded data removed]",
      "text/plain": [
       "<Figure size 511.111x500 with 1 Axes>"
      ]
     },
     "metadata": {},
     "output_type": "display_data"
    },
    {
     "data": {
      "image/png": "[encoded data removed]",
      "text/plain": [
       "<Figure size 511.111x500 with 1 Axes>"
      ]
     },
     "metadata": {},
     "output_type": "display_data"
    },
    {
     "data": {
      "image/png": "[encoded data removed]",
      "text/plain": [
       "<Figure size 500x500 with 1 Axes>"
      ]
     },
     "metadata": {},
     "output_type": "display_data"
    }
   ],
   "source": [
    "sns.catplot(ais, x=ais[\"sex\"], kind=\"count\")\n",
    "sns.catplot(ais, x=ais[\"sport\"], kind=\"count\")\n",
    "sns.displot(data=ais, x=\"ht\")"
   ]
  },
  {
   "cell_type": "code",
   "execution_count": 26,
   "metadata": {},
   "outputs": [
    {
     "data": {
      "text/plain": [
       "<Axes: xlabel='ht', ylabel='sport'>"
      ]
     },
     "execution_count": 26,
     "metadata": {},
     "output_type": "execute_result"
    },
    {
     "data": {
      "image/png": "[encoded data removed]",
      "text/plain": [
       "<Figure size 640x480 with 1 Axes>"
      ]
     },
     "metadata": {},
     "output_type": "display_data"
    }
   ],
   "source": [
    "sns.boxplot(data=ais, x=\"ht\", y=\"sport\", hue=\"sex\")"
   ]
  },
  {
   "cell_type": "markdown",
   "metadata": {},
   "source": [
    "Select the following subsets from the dataset and calculate for each the appropriate measures of central tendency (and, when possible, dispersion) of the variables `ht` and `sex`:\n",
    "\n",
    "1. the rowers\n",
    "2. the rowers, netball and tennis players together\n",
    "3. the female basketball players and rowers together\n"
   ]
  },
  {
   "cell_type": "code",
   "execution_count": 39,
   "metadata": {},
   "outputs": [
    {
     "data": {
      "text/plain": [
       "count     37.000000\n",
       "mean     182.375676\n",
       "std        7.798376\n",
       "min      156.000000\n",
       "25%      179.300000\n",
       "50%      181.800000\n",
       "75%      186.300000\n",
       "max      198.000000\n",
       "Name: ht, dtype: float64"
      ]
     },
     "execution_count": 39,
     "metadata": {},
     "output_type": "execute_result"
    }
   ],
   "source": [
    "ais[ais.sport == \"Row\"][\"ht\"].describe()"
   ]
  },
  {
   "cell_type": "code",
   "execution_count": 37,
   "metadata": {},
   "outputs": [
    {
     "data": {
      "text/plain": [
       "count     71.000000\n",
       "mean     179.066197\n",
       "std        7.936371\n",
       "min      156.000000\n",
       "25%      174.250000\n",
       "50%      179.500000\n",
       "75%      183.400000\n",
       "max      198.000000\n",
       "Name: ht, dtype: float64"
      ]
     },
     "execution_count": 37,
     "metadata": {},
     "output_type": "execute_result"
    }
   ],
   "source": [
    "ais[(ais.sport == \"Row\") | (ais.sport == \"Netball\") | (ais.sport == \"Tennis\")][\n",
    "    \"ht\"\n",
    "].describe()"
   ]
  },
  {
   "cell_type": "code",
   "execution_count": 38,
   "metadata": {},
   "outputs": [
    {
     "data": {
      "text/plain": [
       "count     35.000000\n",
       "mean     180.125714\n",
       "std        7.144078\n",
       "min      156.000000\n",
       "25%      177.400000\n",
       "50%      179.700000\n",
       "75%      184.650000\n",
       "max      195.900000\n",
       "Name: ht, dtype: float64"
      ]
     },
     "execution_count": 38,
     "metadata": {},
     "output_type": "execute_result"
    }
   ],
   "source": [
    "ais[(ais.sex == \"f\") & ((ais.sport == \"Row\") | (ais.sport == \"B_Ball\"))][\n",
    "    \"ht\"\n",
    "].describe()"
   ]
  },
  {
   "cell_type": "markdown",
   "metadata": {},
   "source": [
    "## Check your answers\n",
    "\n",
    "As a check, here are the results of the last question. First the frequencies and mode of the variable `sex`:\n",
    "\n",
    "|          | Selection 1 | Selection 2 | Selection 3 |\n",
    "| :------- | :---------- | :---------- | :---------- |\n",
    "| **f**    | 22          | 52          | 35          |\n",
    "| **m**    | 15          | 19          | 0           |\n",
    "| **mode** | f           | f           | f           |\n",
    "\n",
    "Then the relevant measures for central tendency and dispersion for `ht` (max. 3 decimal places):\n",
    "\n",
    "| Statistic | Selection 1 | Selection 2 | Selection 3 |\n",
    "| :-------- | :---------- | :---------- | :---------- |\n",
    "| mean      | 182.376     | 179.066     | 180.126     |\n",
    "| stdev     | 7.798       | 7.936       | 7.144       |\n",
    "| min       | 156         | 156         | 156         |\n",
    "| Q1        | 179.3       | 174.25      | 177.4       |\n",
    "| median    | 181.8       | 179.5       | 179.7       |\n",
    "| Q3        | 186.3       | 183.4       | 184.65      |\n",
    "| max       | 198         | 198         | 195.9       |\n",
    "| IQR       | 7           | 9.15        | 7.250       |\n"
   ]
  }
 ],
 "metadata": {
  "kernelspec": {
   "display_name": "venv",
   "language": "python",
   "name": "python3"
  },
  "language_info": {
   "codemirror_mode": {
    "name": "ipython",
    "version": 3
   },
   "file_extension": ".py",
   "mimetype": "text/x-python",
   "name": "python",
   "nbconvert_exporter": "python",
   "pygments_lexer": "ipython3",
   "version": "3.12.2"
  },
  "orig_nbformat": 4
 },
 "nbformat": 4,
 "nbformat_minor": 2
}
