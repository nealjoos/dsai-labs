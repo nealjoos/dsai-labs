{
  "cells": [
    {
      "cell_type": "markdown",
      "metadata": {
        "id": "M179_lET0jSn"
      },
      "source": [
        "# Lab 3.03 - Confidence intervals\n"
      ]
    },
    {
      "cell_type": "code",
      "execution_count": 1,
      "metadata": {},
      "outputs": [
        {
          "name": "stderr",
          "output_type": "stream",
          "text": [
            "C:\\Users\\nealj\\AppData\\Local\\Temp\\ipykernel_56704\\2255606428.py:4: DeprecationWarning: \n",
            "Pyarrow will become a required dependency of pandas in the next major release of pandas (pandas 3.0),\n",
            "(to allow more performant data types, such as the Arrow string type, and better interoperability with other libraries)\n",
            "but was not found to be installed on your system.\n",
            "If this would cause problems for you,\n",
            "please provide us feedback at https://github.com/pandas-dev/pandas/issues/54466\n",
            "        \n",
            "  import pandas as pd  # Data Frame\n"
          ]
        }
      ],
      "source": [
        "# Package imports for data science\n",
        "import numpy as np  # Scientific computing\n",
        "import scipy.stats as stats  # Statistical tests\n",
        "import pandas as pd  # Data Frame\n",
        "from pandas.api.types import CategoricalDtype\n",
        "import matplotlib.pyplot as plt  # Basic visualisation\n",
        "from statsmodels.graphics.mosaicplot import mosaic  # Mosaic diagram\n",
        "import seaborn as sns  # Advanced data visualisation"
      ]
    },
    {
      "cell_type": "markdown",
      "metadata": {
        "id": "c0Q7INQrFUZK"
      },
      "source": [
        "## Exercise 3.1 - rlanders\n",
        "\n",
        "Load the dataset data/rlanders.csv. Use the column Money.  \n",
        "We assume that the values from this sample are normally distributed around a population mean $\\mu$ that is unknown, but that the standard deviation of the population is known, i.e. $\\sigma = 98$.\n"
      ]
    },
    {
      "cell_type": "code",
      "execution_count": 2,
      "metadata": {
        "colab": {
          "base_uri": "https://localhost:8080/",
          "height": 206
        },
        "id": "X8SWRipx3I9_",
        "outputId": "90a9819a-4e5a-4a35-ed25-233824cd0809"
      },
      "outputs": [
        {
          "data": {
            "text/html": [
              "<div>\n",
              "<style scoped>\n",
              "    .dataframe tbody tr th:only-of-type {\n",
              "        vertical-align: middle;\n",
              "    }\n",
              "\n",
              "    .dataframe tbody tr th {\n",
              "        vertical-align: top;\n",
              "    }\n",
              "\n",
              "    .dataframe thead th {\n",
              "        text-align: right;\n",
              "    }\n",
              "</style>\n",
              "<table border=\"1\" class=\"dataframe\">\n",
              "  <thead>\n",
              "    <tr style=\"text-align: right;\">\n",
              "      <th></th>\n",
              "      <th>Gender</th>\n",
              "      <th>Money</th>\n",
              "      <th>Days</th>\n",
              "      <th>Months</th>\n",
              "      <th>Count</th>\n",
              "      <th>Survey</th>\n",
              "    </tr>\n",
              "    <tr>\n",
              "      <th>ID</th>\n",
              "      <th></th>\n",
              "      <th></th>\n",
              "      <th></th>\n",
              "      <th></th>\n",
              "      <th></th>\n",
              "      <th></th>\n",
              "    </tr>\n",
              "  </thead>\n",
              "  <tbody>\n",
              "    <tr>\n",
              "      <th>1</th>\n",
              "      <td>Female</td>\n",
              "      <td>440</td>\n",
              "      <td>29</td>\n",
              "      <td>11</td>\n",
              "      <td>35</td>\n",
              "      <td>3</td>\n",
              "    </tr>\n",
              "    <tr>\n",
              "      <th>2</th>\n",
              "      <td>Female</td>\n",
              "      <td>503</td>\n",
              "      <td>23</td>\n",
              "      <td>10</td>\n",
              "      <td>52</td>\n",
              "      <td>3</td>\n",
              "    </tr>\n",
              "    <tr>\n",
              "      <th>3</th>\n",
              "      <td>Male</td>\n",
              "      <td>412</td>\n",
              "      <td>16</td>\n",
              "      <td>11</td>\n",
              "      <td>55</td>\n",
              "      <td>3</td>\n",
              "    </tr>\n",
              "    <tr>\n",
              "      <th>4</th>\n",
              "      <td>Male</td>\n",
              "      <td>587</td>\n",
              "      <td>25</td>\n",
              "      <td>9</td>\n",
              "      <td>28</td>\n",
              "      <td>5</td>\n",
              "    </tr>\n",
              "    <tr>\n",
              "      <th>5</th>\n",
              "      <td>Male</td>\n",
              "      <td>525</td>\n",
              "      <td>30</td>\n",
              "      <td>11</td>\n",
              "      <td>41</td>\n",
              "      <td>4</td>\n",
              "    </tr>\n",
              "  </tbody>\n",
              "</table>\n",
              "</div>"
            ],
            "text/plain": [
              "    Gender  Money  Days  Months  Count  Survey\n",
              "ID                                            \n",
              "1   Female    440    29      11     35       3\n",
              "2   Female    503    23      10     52       3\n",
              "3     Male    412    16      11     55       3\n",
              "4     Male    587    25       9     28       5\n",
              "5     Male    525    30      11     41       4"
            ]
          },
          "execution_count": 2,
          "metadata": {},
          "output_type": "execute_result"
        }
      ],
      "source": [
        "df = pd.read_csv(\n",
        "    \"https://raw.githubusercontent.com/HoGentTIN/dsai-en-labs/main/data/rlanders.csv\"\n",
        ").set_index([\"ID\"])\n",
        "\n",
        "\n",
        "# Show the first few records of the Data Frame\n",
        "\n",
        "\n",
        "df.head()"
      ]
    },
    {
      "cell_type": "markdown",
      "metadata": {
        "id": "micQS-lB-91P"
      },
      "source": [
        "Calculate a 99% confidence interval for the population mean (Answer: [484.191, 516.121])."
      ]
    },
    {
      "cell_type": "code",
      "execution_count": 10,
      "metadata": {
        "id": "9fpkhHkK5W4n"
      },
      "outputs": [
        {
          "name": "stdout",
          "output_type": "stream",
          "text": [
            "z-score: 2.57583\n",
            "Confidence interval: [484.1908, 516.1212]\n"
          ]
        }
      ],
      "source": [
        "m = df[\"Money\"].mean()\n",
        "s = 98\n",
        "n = df[\"Money\"].count()\n",
        "\n",
        "alpha = 0.01  # 1 - alpha is the confidence level\n",
        "z = stats.norm.isf(alpha / 2)\n",
        "print(\"z-score: %.5f\" % z)\n",
        "\n",
        "lo = m - z * s / np.sqrt(n)\n",
        "hi = m + z * s / np.sqrt(n)\n",
        "print(\"Confidence interval: [%.4f, %.4f]\" % (lo, hi))"
      ]
    },
    {
      "cell_type": "markdown",
      "metadata": {
        "id": "ECERz_63_By6"
      },
      "source": [
        "Calculate a 95% confidence interval for the population mean. (Answer =  [488.008, 512.304])"
      ]
    },
    {
      "cell_type": "code",
      "execution_count": 11,
      "metadata": {
        "id": "QN2HodqW-aOS"
      },
      "outputs": [
        {
          "name": "stdout",
          "output_type": "stream",
          "text": [
            "z-score: 1.95996\n",
            "Confidence interval: [488.0080, 512.3040]\n"
          ]
        }
      ],
      "source": [
        "alpha = 0.05  # 1 - alpha is the confidence level\n",
        "z = stats.norm.isf(alpha / 2)\n",
        "print(\"z-score: %.5f\" % z)\n",
        "\n",
        "lo = m - z * s / np.sqrt(n)\n",
        "hi = m + z * s / np.sqrt(n)\n",
        "print(\"Confidence interval: [%.4f, %.4f]\" % (lo, hi))"
      ]
    },
    {
      "cell_type": "markdown",
      "metadata": {
        "id": "T_tvkbrf_InR"
      },
      "source": [
        "Suppose σ is unknown, calculate a 95% confidence interval for the population mean. (Answer = [487.319, 512.993])"
      ]
    },
    {
      "cell_type": "code",
      "execution_count": 13,
      "metadata": {
        "id": "NHUe10TR_H-I"
      },
      "outputs": [
        {
          "name": "stdout",
          "output_type": "stream",
          "text": [
            "z-score: 1.95996\n",
            "Confidence interval: [487.3813, 512.9307]\n"
          ]
        }
      ],
      "source": [
        "alpha = 0.05  # 1 - alpha is the confidence level\n",
        "s_sample = df[\"Money\"].std()  # using sample std if s is not known\n",
        "z = stats.norm.isf(alpha / 2)\n",
        "print(\"z-score: %.5f\" % z)\n",
        "\n",
        "lo = m - z * s_sample / np.sqrt(n)\n",
        "hi = m + z * s_sample / np.sqrt(n)\n",
        "print(\"Confidence interval: [%.4f, %.4f]\" % (lo, hi))"
      ]
    },
    {
      "cell_type": "markdown",
      "metadata": {
        "id": "OPNlp4TS_nU3"
      },
      "source": [
        "Finally, suppose the sample consists of only the first 25 observations in this dataset. Calculate a 95% confidence interval for this situation.  \n",
        "(Answer = [450.291,536.669])"
      ]
    },
    {
      "cell_type": "code",
      "execution_count": 22,
      "metadata": {
        "id": "5_73IDTY_sgO"
      },
      "outputs": [
        {
          "name": "stdout",
          "output_type": "stream",
          "text": [
            "t-score: 2.06390\n",
            "Confidence interval: [450.2912, 536.6688]\n"
          ]
        }
      ],
      "source": [
        "alpha = 0.05  # 1 - alpha is the confidence level\n",
        "n = df[\"Money\"][:25].count()\n",
        "s_sample = df[\"Money\"][:25].std()\n",
        "m = df[\"Money\"][:25].mean()\n",
        "\n",
        "t = stats.t.isf(alpha / 2, df=n - 1)\n",
        "print(\"t-score: %.5f\" % t)\n",
        "\n",
        "lo = m - t * s_sample / np.sqrt(n)\n",
        "hi = m + t * s_sample / np.sqrt(n)\n",
        "print(\"Confidence interval: [%.4f, %.4f]\" % (lo, hi))"
      ]
    },
    {
      "cell_type": "markdown",
      "metadata": {},
      "source": [
        "## Exercise 3.2\n",
        "\n",
        "1. How do you calculate the upper and lower limits of a 95% and 99% confidence interval?\n",
        "2. A 99% confidence interval is [wider/narrower/the same width] as a 95% confidence interval. Why?\n",
        "3. What would a 100% confidence interval look like?"
      ]
    },
    {
      "cell_type": "code",
      "execution_count": null,
      "metadata": {},
      "outputs": [],
      "source": [
        "# 1\n",
        "stats.norm.ppf(0.025, loc=m, sigma=s)\n",
        "stats.norm.ppf(1 - 0.025, loc=m, sigma=s)\n",
        "\n",
        "stats.norm.ppf(0.01, loc=m, sigma=s)\n",
        "stats.norm.ppf(1 - 0.01, loc=m, sigma=s)\n",
        "\n",
        "# 2"
      ]
    }
  ],
  "metadata": {
    "colab": {
      "collapsed_sections": [],
      "name": "lab-3-01.ipynb",
      "provenance": []
    },
    "kernelspec": {
      "display_name": "Python 3",
      "name": "python3"
    },
    "language_info": {
      "codemirror_mode": {
        "name": "ipython",
        "version": 3
      },
      "file_extension": ".py",
      "mimetype": "text/x-python",
      "name": "python",
      "nbconvert_exporter": "python",
      "pygments_lexer": "ipython3",
      "version": "3.12.2"
    },
    "orig_nbformat": 4
  },
  "nbformat": 4,
  "nbformat_minor": 0
}
