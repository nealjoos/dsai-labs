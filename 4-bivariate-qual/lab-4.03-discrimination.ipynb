{
  "cells": [
    {
      "cell_type": "markdown",
      "metadata": {
        "id": "xDBTRYzLSeM_"
      },
      "source": [
        "# Lab 4.03 - Bivariate Analysis of Qualitative Data\n"
      ]
    },
    {
      "cell_type": "code",
      "execution_count": 4,
      "metadata": {
        "id": "j8I-eUfMSeNF"
      },
      "outputs": [
        {
          "name": "stderr",
          "output_type": "stream",
          "text": [
            "C:\\Users\\nealj\\AppData\\Local\\Temp\\ipykernel_35592\\3033132652.py:5: DeprecationWarning: \n",
            "Pyarrow will become a required dependency of pandas in the next major release of pandas (pandas 3.0),\n",
            "(to allow more performant data types, such as the Arrow string type, and better interoperability with other libraries)\n",
            "but was not found to be installed on your system.\n",
            "If this would cause problems for you,\n",
            "please provide us feedback at https://github.com/pandas-dev/pandas/issues/54466\n",
            "        \n",
            "  import pandas as pd  # Data Frame\n"
          ]
        }
      ],
      "source": [
        "# Importing the necessary packages\n",
        "import numpy as np  # \"Scientific computing\"\n",
        "import scipy.stats as stats  # Statistical tests\n",
        "\n",
        "import pandas as pd  # Data Frame\n",
        "from pandas.api.types import CategoricalDtype\n",
        "\n",
        "import matplotlib.pyplot as plt  # Basic visualisation\n",
        "from statsmodels.graphics.mosaicplot import mosaic  # Mosaic diagram\n",
        "import seaborn as sns  # Advanced data visualisation"
      ]
    },
    {
      "cell_type": "markdown",
      "metadata": {
        "id": "YBt7tOyqovNc"
      },
      "source": [
        "## Exercise 3 - Discrimination in schoolteacher hiring\n",
        "\n",
        "African Americans in a St. Louis suburb sued the city\n",
        "claiming they were discriminated against in schoolteacher hiring. Of the city's population, 5.7% were\n",
        "African American; of 405 teachers in the school system, 15 were African American. Set up appropriate\n",
        "hypotheses and determine whether African Americans\n",
        "are underrepresented.  \n",
        "Calculate the standardized residuals.\n",
        "\n",
        "Results of the main calculations:\n",
        "- Chi-squared        χ² = 3.0027\n",
        "- Critical value      g = 3.8415\n",
        "- p-value             p = 0.0831\n",
        "- standardized residuals for african american = -1.7328 > - 2"
      ]
    },
    {
      "cell_type": "code",
      "execution_count": 11,
      "metadata": {
        "id": "VxX_Gzrustbn"
      },
      "outputs": [
        {
          "name": "stdout",
          "output_type": "stream",
          "text": [
            "observed  :  [ 15 390]\n",
            "expected_p:  [0.057 0.943]\n",
            "expected  :  [ 23.085 381.915]\n",
            "chi^2     :  3.0027451685653417\n",
            "p-value   :  0.0831235620095611\n",
            "Critical value: 3.8414588206941285\n",
            "residuals: [-1.73284309  1.73284309]\n"
          ]
        }
      ],
      "source": [
        "n = 405\n",
        "observed = np.array([15, n - 15])\n",
        "expected_p = np.array([0.057, 1 - 0.057])\n",
        "expected = expected_p * n\n",
        "print(\"observed  : \", observed)\n",
        "print(\"expected_p: \", expected_p)\n",
        "print(\"expected  : \", expected)\n",
        "\n",
        "chi2, p = stats.chisquare(f_obs=observed, f_exp=expected)\n",
        "print(\"chi^2     : \", chi2)\n",
        "print(\"p-value   : \", p)\n",
        "\n",
        "g = stats.chi2.isf(0.05, df=1)\n",
        "print(\"Critical value:\", g)\n",
        "\n",
        "resids = (observed - expected) / np.sqrt(expected * (1 - expected_p))\n",
        "print(\"residuals:\", resids)"
      ]
    },
    {
      "cell_type": "code",
      "execution_count": null,
      "metadata": {
        "id": "V20Cup7Istbo"
      },
      "outputs": [],
      "source": []
    },
    {
      "cell_type": "code",
      "execution_count": null,
      "metadata": {
        "id": "2iuZ0kBHZKJt"
      },
      "outputs": [],
      "source": []
    }
  ],
  "metadata": {
    "colab": {
      "provenance": []
    },
    "interpreter": {
      "hash": "e7370f93d1d0cde622a1f8e1c04877d8463912d04d973331ad4851f04de6915a"
    },
    "kernelspec": {
      "display_name": "Python 3.10.0 64-bit",
      "language": "python",
      "name": "python3"
    },
    "language_info": {
      "codemirror_mode": {
        "name": "ipython",
        "version": 3
      },
      "file_extension": ".py",
      "mimetype": "text/x-python",
      "name": "python",
      "nbconvert_exporter": "python",
      "pygments_lexer": "ipython3",
      "version": "3.12.3"
    },
    "orig_nbformat": 4
  },
  "nbformat": 4,
  "nbformat_minor": 0
}
