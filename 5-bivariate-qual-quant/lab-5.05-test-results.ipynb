{
  "cells": [
    {
      "cell_type": "markdown",
      "metadata": {
        "id": "RzEWLSEPt30W"
      },
      "source": [
        "# Lab 5.05 - Two-sample t-test"
      ]
    },
    {
      "cell_type": "code",
      "execution_count": 128,
      "metadata": {
        "id": "QnEzGI2its2h"
      },
      "outputs": [],
      "source": [
        "# Package imports\n",
        "import numpy as np  # \"Scientific computing\"\n",
        "import scipy.stats as stats  # Statistical tests\n",
        "\n",
        "import pandas as pd  # Dataframe\n",
        "import matplotlib.pyplot as plt  # Basic visualisation\n",
        "from statsmodels.graphics.mosaicplot import mosaic  # Mosaic plot\n",
        "import seaborn as sns  # Advanced dataviz"
      ]
    },
    {
      "cell_type": "markdown",
      "metadata": {},
      "source": [
        "## Exercise 5 - Comparing test results between groups\n",
        "\n",
        "A large number of students participated in a test that was organized in several successive sessions. Because creating a separate test for each session was practically unfeasible, the same questions were used in each session. Consequently, there is a danger that students could pass on information about the test to the groups that still had to come after. Later groups then have an advantage over the first. However, this also evident from the test scores?\n",
        "\n",
        "The file `test-results.csv` contains all results of the test. The score is a floating point number with maximum 40. If the score field is empty, this indicates a student that was absent. Each session is identified by a letter, in the order of the consecutive sessions.\n",
        "\n",
        "- Day 1: sessions A, B\n",
        "- Day 2: sessions C, D, E\n",
        "- Day 3: sessions F, G, H\n",
        "\n",
        "Sessions A and B were conducted on a different campus, so it could be assumed that there is little to no communication with students from other sessions.\n",
        "\n",
        "If information was passed on successfully, we expect the scores of later groups to be significantly better than the first.\n",
        "\n",
        "**Note** that the reverse reasoning does not necessarily hold: if it turns out that the result of later sessions is indeed significantly better, this does not necessarily mean that the (only) cause is passing on of information. There may also be other causes (e.g. “weaker” class groups happen to be scheduled earlier).\n",
        "\n",
        "1. Explore the data. Calculate the appropriate measures for central tendency and dispersion for the full dataset and for each session individually.\n",
        "2. Plot a bar graph of the average score per session with error bars denoting one standard deviation.\n",
        "3. Make a box plot of the scores divided per group. Compare the sessions listed below. Do you think there is a significant difference between the results? Can we suspect that information has been passed on?\n",
        "    - A and B\n",
        "    - C, D and E\n",
        "    - F, G and H\n",
        "    - C and H\n",
        "    - A and H\n",
        "4. Use an appropriate statistical test to determine whether the differences between the groups listed above are also *significant*. Can we conclude that the later groups score better or not?"
      ]
    },
    {
      "cell_type": "code",
      "execution_count": 129,
      "metadata": {},
      "outputs": [
        {
          "data": {
            "text/html": [
              "<div>\n",
              "<style scoped>\n",
              "    .dataframe tbody tr th:only-of-type {\n",
              "        vertical-align: middle;\n",
              "    }\n",
              "\n",
              "    .dataframe tbody tr th {\n",
              "        vertical-align: top;\n",
              "    }\n",
              "\n",
              "    .dataframe thead th {\n",
              "        text-align: right;\n",
              "    }\n",
              "</style>\n",
              "<table border=\"1\" class=\"dataframe\">\n",
              "  <thead>\n",
              "    <tr style=\"text-align: right;\">\n",
              "      <th></th>\n",
              "      <th>Score</th>\n",
              "    </tr>\n",
              "  </thead>\n",
              "  <tbody>\n",
              "    <tr>\n",
              "      <th>count</th>\n",
              "      <td>195.000000</td>\n",
              "    </tr>\n",
              "    <tr>\n",
              "      <th>mean</th>\n",
              "      <td>18.788974</td>\n",
              "    </tr>\n",
              "    <tr>\n",
              "      <th>std</th>\n",
              "      <td>7.014017</td>\n",
              "    </tr>\n",
              "    <tr>\n",
              "      <th>min</th>\n",
              "      <td>0.000000</td>\n",
              "    </tr>\n",
              "    <tr>\n",
              "      <th>25%</th>\n",
              "      <td>13.250000</td>\n",
              "    </tr>\n",
              "    <tr>\n",
              "      <th>50%</th>\n",
              "      <td>19.000000</td>\n",
              "    </tr>\n",
              "    <tr>\n",
              "      <th>75%</th>\n",
              "      <td>24.500000</td>\n",
              "    </tr>\n",
              "    <tr>\n",
              "      <th>max</th>\n",
              "      <td>34.500000</td>\n",
              "    </tr>\n",
              "  </tbody>\n",
              "</table>\n",
              "</div>"
            ],
            "text/plain": [
              "            Score\n",
              "count  195.000000\n",
              "mean    18.788974\n",
              "std      7.014017\n",
              "min      0.000000\n",
              "25%     13.250000\n",
              "50%     19.000000\n",
              "75%     24.500000\n",
              "max     34.500000"
            ]
          },
          "execution_count": 129,
          "metadata": {},
          "output_type": "execute_result"
        }
      ],
      "source": [
        "df = pd.read_csv(\"../data/test-results.csv\")\n",
        "\n",
        "df.describe()"
      ]
    },
    {
      "cell_type": "code",
      "execution_count": 130,
      "metadata": {},
      "outputs": [],
      "source": [
        "# Drop NaN values (students who were absent)\n",
        "df = df.dropna()"
      ]
    },
    {
      "cell_type": "code",
      "execution_count": 131,
      "metadata": {},
      "outputs": [
        {
          "name": "stdout",
          "output_type": "stream",
          "text": [
            "           Score\n",
            "count  17.000000\n",
            "mean   13.117647\n",
            "std     6.040306\n",
            "min     4.000000\n",
            "25%     8.000000\n",
            "50%    12.500000\n",
            "75%    17.000000\n",
            "max    26.500000\n",
            "           Score\n",
            "count  21.000000\n",
            "mean   17.214286\n",
            "std     9.150917\n",
            "min     1.000000\n",
            "25%    10.000000\n",
            "50%    14.500000\n",
            "75%    26.500000\n",
            "max    31.500000\n",
            "           Score\n",
            "count  25.000000\n",
            "mean   18.800000\n",
            "std     6.539941\n",
            "min    10.000000\n",
            "25%    13.000000\n",
            "50%    18.500000\n",
            "75%    22.000000\n",
            "max    34.500000\n",
            "           Score\n",
            "count  26.000000\n",
            "mean   22.451923\n",
            "std     4.641670\n",
            "min    13.000000\n",
            "25%    19.125000\n",
            "50%    22.125000\n",
            "75%    25.750000\n",
            "max    30.500000\n",
            "           Score\n",
            "count  22.000000\n",
            "mean   18.852273\n",
            "std     7.010052\n",
            "min     0.000000\n",
            "25%    16.375000\n",
            "50%    19.250000\n",
            "75%    21.375000\n",
            "max    30.750000\n",
            "           Score\n",
            "count  27.000000\n",
            "mean   17.814815\n",
            "std     6.274028\n",
            "min     6.500000\n",
            "25%    12.875000\n",
            "50%    17.500000\n",
            "75%    22.000000\n",
            "max    32.000000\n",
            "           Score\n",
            "count  29.000000\n",
            "mean   18.736207\n",
            "std     5.261126\n",
            "min    10.000000\n",
            "25%    16.500000\n",
            "50%    18.750000\n",
            "75%    23.000000\n",
            "max    27.750000\n",
            "           Score\n",
            "count  28.000000\n",
            "mean   20.946429\n",
            "std     8.133537\n",
            "min     3.000000\n",
            "25%    15.750000\n",
            "50%    22.000000\n",
            "75%    26.625000\n",
            "max    34.500000\n"
          ]
        }
      ],
      "source": [
        "df_a = df[df[\"Session\"] == \"A\"]\n",
        "df_b = df[df[\"Session\"] == \"B\"]\n",
        "df_c = df[df[\"Session\"] == \"C\"]\n",
        "df_d = df[df[\"Session\"] == \"D\"]\n",
        "df_e = df[df[\"Session\"] == \"E\"]\n",
        "df_f = df[df[\"Session\"] == \"F\"]\n",
        "df_g = df[df[\"Session\"] == \"G\"]\n",
        "df_h = df[df[\"Session\"] == \"H\"]\n",
        "\n",
        "print(df_a.describe())\n",
        "print(df_b.describe())\n",
        "print(df_c.describe())\n",
        "print(df_d.describe())\n",
        "print(df_e.describe())\n",
        "print(df_f.describe())\n",
        "print(df_g.describe())\n",
        "print(df_h.describe())"
      ]
    },
    {
      "cell_type": "code",
      "execution_count": 132,
      "metadata": {},
      "outputs": [
        {
          "data": {
            "text/plain": [
              "<Axes: xlabel='Score'>"
            ]
          },
          "execution_count": 132,
          "metadata": {},
          "output_type": "execute_result"
        },
        {
          "data": {
            "image/png": "[encoded data removed]",
            "text/plain": [
              "<Figure size 640x480 with 1 Axes>"
            ]
          },
          "metadata": {},
          "output_type": "display_data"
        }
      ],
      "source": [
        "sns.barplot(x=df.Score, hue=df.Session)"
      ]
    },
    {
      "cell_type": "code",
      "execution_count": 133,
      "metadata": {},
      "outputs": [
        {
          "name": "stdout",
          "output_type": "stream",
          "text": [
            "TtestResult(statistic=-1.6541070146039145, pvalue=0.053557184014211265, df=34.74221148304119)\n"
          ]
        },
        {
          "data": {
            "image/png": "[encoded data removed]",
            "text/plain": [
              "<Figure size 640x480 with 1 Axes>"
            ]
          },
          "metadata": {},
          "output_type": "display_data"
        }
      ],
      "source": [
        "# A and B\n",
        "df_day1 = df[df[\"Session\"].isin([\"A\", \"B\"])]\n",
        "sns.boxplot(x=df_day1.Score, hue=df_day1.Session)\n",
        "\n",
        "print(stats.ttest_ind(a=df_a.Score, b=df_b.Score, alternative=\"less\", equal_var=False))"
      ]
    },
    {
      "cell_type": "code",
      "execution_count": 134,
      "metadata": {},
      "outputs": [
        {
          "name": "stdout",
          "output_type": "stream",
          "text": [
            "TtestResult(statistic=-2.291650017323013, pvalue=0.013433158948369566, df=43.15938489732556)\n",
            "TtestResult(statistic=-2.056999632486277, pvalue=0.023558387239853682, df=35.38117942004011)\n"
          ]
        },
        {
          "data": {
            "image/png": "[encoded data removed]",
            "text/plain": [
              "<Figure size 640x480 with 1 Axes>"
            ]
          },
          "metadata": {},
          "output_type": "display_data"
        }
      ],
      "source": [
        "# C, D and E\n",
        "df_day2 = df[df[\"Session\"].isin([\"C\", \"D\", \"E\"])]\n",
        "sns.boxplot(x=df_day2.Score, hue=df_day2.Session)\n",
        "\n",
        "print(stats.ttest_ind(a=df_c.Score, b=df_d.Score, alternative=\"less\", equal_var=False))\n",
        "print(stats.ttest_ind(a=df_e.Score, b=df_d.Score, alternative=\"less\", equal_var=False))"
      ]
    },
    {
      "cell_type": "code",
      "execution_count": 135,
      "metadata": {},
      "outputs": [
        {
          "name": "stdout",
          "output_type": "stream",
          "text": [
            "TtestResult(statistic=-1.6021549425300856, pvalue=0.05767350132701562, df=50.595868563995374)\n",
            "TtestResult(statistic=-1.2135428543345408, pvalue=0.11555943437549136, df=45.98460796522306)\n"
          ]
        },
        {
          "data": {
            "image/png": "[encoded data removed]",
            "text/plain": [
              "<Figure size 640x480 with 1 Axes>"
            ]
          },
          "metadata": {},
          "output_type": "display_data"
        }
      ],
      "source": [
        "# F, G and H\n",
        "df_day3 = df[df[\"Session\"].isin([\"F\", \"G\", \"H\"])]\n",
        "sns.boxplot(x=df_day3.Score, hue=df_day3.Session)\n",
        "\n",
        "print(stats.ttest_ind(a=df_f.Score, b=df_h.Score, alternative=\"less\", equal_var=False))\n",
        "print(stats.ttest_ind(a=df_g.Score, b=df_h.Score, alternative=\"less\", equal_var=False))"
      ]
    },
    {
      "cell_type": "code",
      "execution_count": 136,
      "metadata": {},
      "outputs": [
        {
          "name": "stdout",
          "output_type": "stream",
          "text": [
            "TtestResult(statistic=-1.0634890645895432, pvalue=0.1463105697202284, df=50.481278316724854)\n"
          ]
        },
        {
          "data": {
            "image/png": "[encoded data removed]",
            "text/plain": [
              "<Figure size 640x480 with 1 Axes>"
            ]
          },
          "metadata": {},
          "output_type": "display_data"
        }
      ],
      "source": [
        "# C and H\n",
        "df_ch = df[df[\"Session\"].isin([\"C\", \"H\"])]\n",
        "sns.boxplot(x=df_ch.Score, hue=df_ch.Session)\n",
        "\n",
        "print(stats.ttest_ind(a=df_c.Score, b=df_h.Score, alternative=\"less\", equal_var=False))"
      ]
    },
    {
      "cell_type": "code",
      "execution_count": 137,
      "metadata": {},
      "outputs": [
        {
          "name": "stdout",
          "output_type": "stream",
          "text": [
            "TtestResult(statistic=-3.68689849737299, pvalue=0.00032887095672805235, df=41.10086078901092)\n"
          ]
        },
        {
          "data": {
            "image/png": "[encoded data removed]",
            "text/plain": [
              "<Figure size 640x480 with 1 Axes>"
            ]
          },
          "metadata": {},
          "output_type": "display_data"
        }
      ],
      "source": [
        "# A and H\n",
        "df_ah = df[df[\"Session\"].isin([\"A\", \"H\"])]\n",
        "sns.boxplot(x=df_ah.Score, hue=df_ah.Session)\n",
        "\n",
        "print(stats.ttest_ind(a=df_a.Score, b=df_h.Score, alternative=\"less\", equal_var=False))"
      ]
    },
    {
      "cell_type": "markdown",
      "metadata": {},
      "source": [
        "### Answers\n",
        "\n",
        "The average score in each session was:\n",
        "\n",
        "| Session | Average score |\n",
        "| :-----: | :------------ |\n",
        "|    A    | 13.1          |\n",
        "|    B    | 17.2          |\n",
        "|    C    | 18.8          |\n",
        "|    D    | 22.5          |\n",
        "|    E    | 18.9          |\n",
        "|    F    | 17.8          |\n",
        "|    G    | 18.7          |\n",
        "|    H    | 20.9          |\n",
        "\n",
        "The table below shows the p-value of a one-sided t-test of two samples between the given sessions:\n",
        "\n",
        "| Alt. hypothesis                       | p-value   |\n",
        "| :------------------------------------ | :-------- |\n",
        "| $\\overline{x}_A - \\overline{x}_B < 0$ | 0.05356   |\n",
        "| $\\overline{x}_C - \\overline{x}_D < 0$ | 0.01343   |\n",
        "| $\\overline{x}_E - \\overline{x}_D < 0$ | 0.02356   |\n",
        "| $\\overline{x}_F - \\overline{x}_H < 0$ | 0.05767   |\n",
        "| $\\overline{x}_G - \\overline{x}_H < 0$ | 0.1156    |\n",
        "| $\\overline{x}_C - \\overline{x}_H < 0$ | 0.1463    |\n",
        "| $\\overline{x}_A - \\overline{x}_H < 0$ | 0.0003289 |\n",
        "\n",
        "Remarks:\n",
        "\n",
        "- The difference between **session A and B**, although it seems quite large, is insignificant for $\\alpha = 0.05$\n",
        "- **Sessions C, D and E**:\n",
        "  - Session D had the highest score. Sessions C and E had similar results, at least the average score was similar.\n",
        "  - Session D has a significantly higher score than either sessions C and E. However, session E came _after_ D, so the cause is definitely not the passing of information.\n",
        "- The differences between **sessions F, G and H** insignificant\n",
        "- **Sessions C and H** are respectively the first and the last session on the same campus. So, if there is an opportunity to pass on information about the test, there's definitely enough time between these two sessions. However, the difference is not significant!\n",
        "- The difference between **sessions A and H** are significant, but since they took place on different campuses, it is questionable that this difference is caused by passing on information."
      ]
    }
  ],
  "metadata": {
    "colab": {
      "provenance": []
    },
    "kernelspec": {
      "display_name": "Python 3",
      "name": "python3"
    },
    "language_info": {
      "codemirror_mode": {
        "name": "ipython",
        "version": 3
      },
      "file_extension": ".py",
      "mimetype": "text/x-python",
      "name": "python",
      "nbconvert_exporter": "python",
      "pygments_lexer": "ipython3",
      "version": "3.12.3"
    }
  },
  "nbformat": 4,
  "nbformat_minor": 0
}
