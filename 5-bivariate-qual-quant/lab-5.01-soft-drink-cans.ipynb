{
 "cells": [
  {
   "cell_type": "markdown",
   "metadata": {},
   "source": [
    "# Lab 5.01 - Two-sample t-test\n"
   ]
  },
  {
   "cell_type": "code",
   "execution_count": 8,
   "metadata": {},
   "outputs": [],
   "source": [
    "# Package imports\n",
    "import numpy as np  # \"Scientific computing\"\n",
    "import scipy.stats as stats  # Statistical tests\n",
    "\n",
    "import pandas as pd  # Dataframe\n",
    "import matplotlib.pyplot as plt  # Basic visualisation\n",
    "from statsmodels.graphics.mosaicplot import mosaic  # Mosaic plot\n",
    "import seaborn as sns  # Advanced dataviz"
   ]
  },
  {
   "cell_type": "markdown",
   "metadata": {},
   "source": [
    "## Exercise 1 - soft-drink cans\n",
    "\n",
    "Assume that a soft-drink company is considering a style change to its current can, which has been the company’s trademark for many years. To determine whether this new style is popular with consumers, the company runs a number of focus group sessions around the country. At each of these sessions, randomly selected consumers are allowed to examine the new and traditional styles, exchange ideas, and offer their opinions.\n",
    "Eventually, they fill out a form where, among other questions, they are asked to respond to\n",
    "the following items, each on a scale of 1 to 7, 7 being the best:\n",
    "\n",
    "- Rate the attractiveness of the traditional-style can (AO).\n",
    "- Rate the attractiveness of the new-style can (AN).\n",
    "- Rate the likelihood that you would buy the product with the traditional-style can (WBO).\n",
    "- Rate the likelihood that you would buy the product with the new-style can (WBN).\n",
    "\n",
    "(A and WB stand for \"attractiveness\" and \"would buy\", and O and N stand for \"old\" and \"new\".)\n",
    "\n",
    "Use a test to see whether\n",
    "consumers rate the attractiveness, and their likelihood to purchase, higher for a new-style can than for the traditional-style can. First make a boxplot.\n",
    "\n",
    "A few results\n",
    "\n",
    "- AO vs AN: pvalue=1.32316e-07 < 0.05 => the attractiveness of the new-style can is significantly higher than the attractiveness of the traditional-style can\n",
    "\n",
    "- WBO vs WBN: pvalue=2.00845995e-06 < 0.05 => the likelihood to buy the new-style can is significantly higher than the likelihood to buy the traditional-style can\n"
   ]
  },
  {
   "cell_type": "code",
   "execution_count": 9,
   "metadata": {},
   "outputs": [],
   "source": [
    "def cohen_d(a, b):\n",
    "    na = len(a)\n",
    "    nb = len(b)\n",
    "    pooled_sd = np.sqrt(\n",
    "        ((na - 1) * np.var(a, ddof=1) + (nb - 1) * np.var(b, ddof=1)) / (na + nb - 2)\n",
    "    )\n",
    "    return (np.mean(b) - np.mean(a)) / pooled_sd"
   ]
  },
  {
   "cell_type": "code",
   "execution_count": 10,
   "metadata": {},
   "outputs": [
    {
     "data": {
      "text/plain": [
       "TtestResult(statistic=-5.351419141432879, pvalue=1.3231562068750385e-07, df=179)"
      ]
     },
     "execution_count": 10,
     "metadata": {},
     "output_type": "execute_result"
    },
    {
     "data": {
      "image/png": "[encoded data removed]",
      "text/plain": [
       "<Figure size 640x480 with 1 Axes>"
      ]
     },
     "metadata": {},
     "output_type": "display_data"
    }
   ],
   "source": [
    "cans = pd.read_csv(\"../data/Soft-Drink Cans.csv\", sep=\";\").set_index(\"Consumer\")\n",
    "sns.boxplot(data=cans[[\"AO\", \"AN\"]], orient=\"h\")\n",
    "stats.ttest_rel(a=cans[\"AO\"], b=cans[\"AN\"], alternative=\"less\")"
   ]
  },
  {
   "cell_type": "code",
   "execution_count": 11,
   "metadata": {},
   "outputs": [
    {
     "data": {
      "text/plain": [
       "0.2916637362306984"
      ]
     },
     "execution_count": 11,
     "metadata": {},
     "output_type": "execute_result"
    }
   ],
   "source": [
    "cohen_d(cans[\"AO\"], cans[\"AN\"])"
   ]
  },
  {
   "cell_type": "code",
   "execution_count": 12,
   "metadata": {},
   "outputs": [
    {
     "data": {
      "text/plain": [
       "TtestResult(statistic=-4.757802744662339, pvalue=2.0084599545902635e-06, df=179)"
      ]
     },
     "execution_count": 12,
     "metadata": {},
     "output_type": "execute_result"
    },
    {
     "data": {
      "image/png": "[encoded data removed]",
      "text/plain": [
       "<Figure size 640x480 with 1 Axes>"
      ]
     },
     "metadata": {},
     "output_type": "display_data"
    }
   ],
   "source": [
    "sns.boxplot(data=cans[[\"WBO\", \"WBN\"]], orient=\"h\")\n",
    "stats.ttest_rel(a=cans[\"WBO\"], b=cans[\"WBN\"], alternative=\"less\")"
   ]
  },
  {
   "cell_type": "code",
   "execution_count": 13,
   "metadata": {},
   "outputs": [
    {
     "data": {
      "text/plain": [
       "0.23940305792832706"
      ]
     },
     "execution_count": 13,
     "metadata": {},
     "output_type": "execute_result"
    }
   ],
   "source": [
    "cohen_d(cans[\"WBO\"], cans[\"WBN\"])"
   ]
  }
 ],
 "metadata": {
  "kernelspec": {
   "display_name": "venv",
   "language": "python",
   "name": "python3"
  },
  "language_info": {
   "codemirror_mode": {
    "name": "ipython",
    "version": 3
   },
   "file_extension": ".py",
   "mimetype": "text/x-python",
   "name": "python",
   "nbconvert_exporter": "python",
   "pygments_lexer": "ipython3",
   "version": "3.12.2"
  },
  "orig_nbformat": 4
 },
 "nbformat": 4,
 "nbformat_minor": 2
}
