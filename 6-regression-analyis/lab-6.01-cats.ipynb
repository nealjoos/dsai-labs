{
  "cells": [
    {
      "cell_type": "markdown",
      "metadata": {
        "id": "zY97xAN4a-J8"
      },
      "source": [
        "# Lab 6.01 - Regression analysis\n"
      ]
    },
    {
      "cell_type": "code",
      "execution_count": 3,
      "metadata": {
        "id": "yH8_ZwQgrIGb"
      },
      "outputs": [],
      "source": [
        "# Package imports\n",
        "import numpy as np  # \"Scientific computing\"\n",
        "import scipy.stats as stats  # Statistical tests\n",
        "\n",
        "import pandas as pd  # Dataframe\n",
        "import matplotlib.pyplot as plt  # Basic visualisation\n",
        "from statsmodels.graphics.mosaicplot import mosaic  # Mosaic plot\n",
        "import seaborn as sns  # Advanced dataviz\n",
        "from sklearn.linear_model import LinearRegression"
      ]
    },
    {
      "cell_type": "markdown",
      "metadata": {
        "id": "tECSGtzhrIGW"
      },
      "source": [
        "## Exercise 1: Relation between heart weight and body weight in Cats\n",
        "\n",
        "### Part 1\n",
        "\n",
        "Perform a linear regression analysis on the variables body weight (`Bwt`, dependent variable) and heart weight (`Hwt`, independent variabele).\n",
        "\n",
        "1. Import the dataset `Cats.csv`.\n"
      ]
    },
    {
      "cell_type": "code",
      "execution_count": 4,
      "metadata": {
        "colab": {
          "base_uri": "https://localhost:8080/",
          "height": 206
        },
        "id": "iAU0JvJjtXrv",
        "outputId": "ee5b4d87-8410-4276-e111-b8191a1579be"
      },
      "outputs": [
        {
          "data": {
            "text/html": [
              "<div>\n",
              "<style scoped>\n",
              "    .dataframe tbody tr th:only-of-type {\n",
              "        vertical-align: middle;\n",
              "    }\n",
              "\n",
              "    .dataframe tbody tr th {\n",
              "        vertical-align: top;\n",
              "    }\n",
              "\n",
              "    .dataframe thead th {\n",
              "        text-align: right;\n",
              "    }\n",
              "</style>\n",
              "<table border=\"1\" class=\"dataframe\">\n",
              "  <thead>\n",
              "    <tr style=\"text-align: right;\">\n",
              "      <th></th>\n",
              "      <th>ID</th>\n",
              "      <th>Sex</th>\n",
              "      <th>Hwt</th>\n",
              "      <th>Bwt</th>\n",
              "    </tr>\n",
              "  </thead>\n",
              "  <tbody>\n",
              "    <tr>\n",
              "      <th>0</th>\n",
              "      <td>1</td>\n",
              "      <td>F</td>\n",
              "      <td>2.0</td>\n",
              "      <td>7.0</td>\n",
              "    </tr>\n",
              "    <tr>\n",
              "      <th>1</th>\n",
              "      <td>2</td>\n",
              "      <td>F</td>\n",
              "      <td>2.0</td>\n",
              "      <td>7.4</td>\n",
              "    </tr>\n",
              "    <tr>\n",
              "      <th>2</th>\n",
              "      <td>3</td>\n",
              "      <td>F</td>\n",
              "      <td>2.0</td>\n",
              "      <td>9.5</td>\n",
              "    </tr>\n",
              "    <tr>\n",
              "      <th>3</th>\n",
              "      <td>4</td>\n",
              "      <td>F</td>\n",
              "      <td>2.1</td>\n",
              "      <td>7.2</td>\n",
              "    </tr>\n",
              "    <tr>\n",
              "      <th>4</th>\n",
              "      <td>5</td>\n",
              "      <td>F</td>\n",
              "      <td>2.1</td>\n",
              "      <td>7.3</td>\n",
              "    </tr>\n",
              "  </tbody>\n",
              "</table>\n",
              "</div>"
            ],
            "text/plain": [
              "   ID Sex  Hwt  Bwt\n",
              "0   1   F  2.0  7.0\n",
              "1   2   F  2.0  7.4\n",
              "2   3   F  2.0  9.5\n",
              "3   4   F  2.1  7.2\n",
              "4   5   F  2.1  7.3"
            ]
          },
          "execution_count": 4,
          "metadata": {},
          "output_type": "execute_result"
        }
      ],
      "source": [
        "cats = pd.read_csv(\n",
        "    \"https://raw.githubusercontent.com/HoGentTIN/dsai-labs/main/data/Cats.csv\"\n",
        ")\n",
        "\n",
        "\n",
        "# Show the first few records of the Data Frame\n",
        "\n",
        "\n",
        "cats.head()"
      ]
    },
    {
      "cell_type": "markdown",
      "metadata": {
        "id": "n8eVIjBksI7r"
      },
      "source": [
        "2. Draw a scatter plot of both variables.\n"
      ]
    },
    {
      "cell_type": "code",
      "execution_count": 5,
      "metadata": {
        "id": "csfXFlSgsVAn"
      },
      "outputs": [
        {
          "data": {
            "text/plain": [
              "<seaborn.axisgrid.FacetGrid at 0x2392ace27b0>"
            ]
          },
          "execution_count": 5,
          "metadata": {},
          "output_type": "execute_result"
        },
        {
          "data": {
            "image/png": "[encoded data removed]",
            "text/plain": [
              "<Figure size 500x500 with 1 Axes>"
            ]
          },
          "metadata": {},
          "output_type": "display_data"
        }
      ],
      "source": [
        "sns.lmplot(data=cats, x=\"Hwt\", y=\"Bwt\")"
      ]
    },
    {
      "cell_type": "markdown",
      "metadata": {
        "id": "6k3BG51TsKx3"
      },
      "source": [
        "3. Calculate and draw the regression line.\n"
      ]
    },
    {
      "cell_type": "code",
      "execution_count": 6,
      "metadata": {
        "id": "ae3BfYcZsVCR"
      },
      "outputs": [
        {
          "data": {
            "text/html": [
              "<div>\n",
              "<style scoped>\n",
              "    .dataframe tbody tr th:only-of-type {\n",
              "        vertical-align: middle;\n",
              "    }\n",
              "\n",
              "    .dataframe tbody tr th {\n",
              "        vertical-align: top;\n",
              "    }\n",
              "\n",
              "    .dataframe thead th {\n",
              "        text-align: right;\n",
              "    }\n",
              "</style>\n",
              "<table border=\"1\" class=\"dataframe\">\n",
              "  <thead>\n",
              "    <tr style=\"text-align: right;\">\n",
              "      <th></th>\n",
              "      <th>x</th>\n",
              "      <th>y</th>\n",
              "      <th>(x-x̄)</th>\n",
              "      <th>(y-ȳ)</th>\n",
              "      <th>(x-x̄)(y-ȳ)</th>\n",
              "      <th>(x-x̄)²</th>\n",
              "    </tr>\n",
              "  </thead>\n",
              "  <tbody>\n",
              "    <tr>\n",
              "      <th>0</th>\n",
              "      <td>2.0</td>\n",
              "      <td>7.0</td>\n",
              "      <td>-0.723611</td>\n",
              "      <td>-3.629861</td>\n",
              "      <td>2.626608</td>\n",
              "      <td>0.523613</td>\n",
              "    </tr>\n",
              "    <tr>\n",
              "      <th>1</th>\n",
              "      <td>2.0</td>\n",
              "      <td>7.4</td>\n",
              "      <td>-0.723611</td>\n",
              "      <td>-3.229861</td>\n",
              "      <td>2.337163</td>\n",
              "      <td>0.523613</td>\n",
              "    </tr>\n",
              "    <tr>\n",
              "      <th>2</th>\n",
              "      <td>2.0</td>\n",
              "      <td>9.5</td>\n",
              "      <td>-0.723611</td>\n",
              "      <td>-1.129861</td>\n",
              "      <td>0.817580</td>\n",
              "      <td>0.523613</td>\n",
              "    </tr>\n",
              "    <tr>\n",
              "      <th>3</th>\n",
              "      <td>2.1</td>\n",
              "      <td>7.2</td>\n",
              "      <td>-0.623611</td>\n",
              "      <td>-3.429861</td>\n",
              "      <td>2.138899</td>\n",
              "      <td>0.388891</td>\n",
              "    </tr>\n",
              "    <tr>\n",
              "      <th>4</th>\n",
              "      <td>2.1</td>\n",
              "      <td>7.3</td>\n",
              "      <td>-0.623611</td>\n",
              "      <td>-3.329861</td>\n",
              "      <td>2.076538</td>\n",
              "      <td>0.388891</td>\n",
              "    </tr>\n",
              "    <tr>\n",
              "      <th>...</th>\n",
              "      <td>...</td>\n",
              "      <td>...</td>\n",
              "      <td>...</td>\n",
              "      <td>...</td>\n",
              "      <td>...</td>\n",
              "      <td>...</td>\n",
              "    </tr>\n",
              "    <tr>\n",
              "      <th>139</th>\n",
              "      <td>3.7</td>\n",
              "      <td>11.0</td>\n",
              "      <td>0.976389</td>\n",
              "      <td>0.370139</td>\n",
              "      <td>0.361399</td>\n",
              "      <td>0.953335</td>\n",
              "    </tr>\n",
              "    <tr>\n",
              "      <th>140</th>\n",
              "      <td>3.8</td>\n",
              "      <td>14.8</td>\n",
              "      <td>1.076389</td>\n",
              "      <td>4.170139</td>\n",
              "      <td>4.488691</td>\n",
              "      <td>1.158613</td>\n",
              "    </tr>\n",
              "    <tr>\n",
              "      <th>141</th>\n",
              "      <td>3.8</td>\n",
              "      <td>16.8</td>\n",
              "      <td>1.076389</td>\n",
              "      <td>6.170139</td>\n",
              "      <td>6.641469</td>\n",
              "      <td>1.158613</td>\n",
              "    </tr>\n",
              "    <tr>\n",
              "      <th>142</th>\n",
              "      <td>3.9</td>\n",
              "      <td>14.4</td>\n",
              "      <td>1.176389</td>\n",
              "      <td>3.770139</td>\n",
              "      <td>4.435149</td>\n",
              "      <td>1.383891</td>\n",
              "    </tr>\n",
              "    <tr>\n",
              "      <th>143</th>\n",
              "      <td>3.9</td>\n",
              "      <td>20.5</td>\n",
              "      <td>1.176389</td>\n",
              "      <td>9.870139</td>\n",
              "      <td>11.611122</td>\n",
              "      <td>1.383891</td>\n",
              "    </tr>\n",
              "  </tbody>\n",
              "</table>\n",
              "<p>144 rows × 6 columns</p>\n",
              "</div>"
            ],
            "text/plain": [
              "       x     y    (x-x̄)    (y-ȳ)  (x-x̄)(y-ȳ)   (x-x̄)²\n",
              "0    2.0   7.0 -0.723611 -3.629861      2.626608  0.523613\n",
              "1    2.0   7.4 -0.723611 -3.229861      2.337163  0.523613\n",
              "2    2.0   9.5 -0.723611 -1.129861      0.817580  0.523613\n",
              "3    2.1   7.2 -0.623611 -3.429861      2.138899  0.388891\n",
              "4    2.1   7.3 -0.623611 -3.329861      2.076538  0.388891\n",
              "..   ...   ...       ...       ...           ...       ...\n",
              "139  3.7  11.0  0.976389  0.370139      0.361399  0.953335\n",
              "140  3.8  14.8  1.076389  4.170139      4.488691  1.158613\n",
              "141  3.8  16.8  1.076389  6.170139      6.641469  1.158613\n",
              "142  3.9  14.4  1.176389  3.770139      4.435149  1.383891\n",
              "143  3.9  20.5  1.176389  9.870139     11.611122  1.383891\n",
              "\n",
              "[144 rows x 6 columns]"
            ]
          },
          "execution_count": 6,
          "metadata": {},
          "output_type": "execute_result"
        }
      ],
      "source": [
        "least_squares = pd.DataFrame({\"x\": cats.Hwt, \"y\": cats.Bwt})\n",
        "\n",
        "\n",
        "mx = least_squares.x.mean()\n",
        "\n",
        "\n",
        "my = least_squares.y.mean()\n",
        "\n",
        "least_squares[\"(x-x̄)\"] = least_squares[\"x\"] - mx\n",
        "least_squares[\"(y-ȳ)\"] = least_squares[\"y\"] - my\n",
        "\n",
        "\n",
        "least_squares[\"(x-x̄)(y-ȳ)\"] = least_squares[\"(x-x̄)\"] * least_squares[\"(y-ȳ)\"]\n",
        "\n",
        "\n",
        "least_squares[\"(x-x̄)²\"] = least_squares[\"(x-x̄)\"] ** 2\n",
        "least_squares"
      ]
    },
    {
      "cell_type": "code",
      "execution_count": 7,
      "metadata": {
        "id": "TihMNt78uEVY"
      },
      "outputs": [
        {
          "name": "stdout",
          "output_type": "stream",
          "text": [
            "beta_1 = 135.7885 / 33.6797 = 4.0318\n",
            "beta_0 = 10.6299 - 4.0318 * 2.7236 = -0.3511\n",
            "ŷ = -0.3511 + 4.0318 x\n"
          ]
        }
      ],
      "source": [
        "# Numerator and denomitator of the formula for b_0:\n",
        "num = sum(least_squares[\"(x-x̄)(y-ȳ)\"])\n",
        "denom = sum(least_squares[\"(x-x̄)²\"])\n",
        "beta1 = num / denom\n",
        "beta0 = my - beta1 * mx\n",
        "\n",
        "print(f\"beta_1 = {num:.4f} / {denom:.4f} = {beta1:.4f}\")\n",
        "print(f\"beta_0 = {my:.4f} - {beta1:.4f} * {mx:.4f} = {beta0:.4f}\")\n",
        "print(f\"ŷ = {beta0:.4f} + {beta1:.4f} x\")"
      ]
    },
    {
      "cell_type": "code",
      "execution_count": 8,
      "metadata": {},
      "outputs": [
        {
          "data": {
            "text/plain": [
              "<Axes: xlabel='Hwt', ylabel='Bwt'>"
            ]
          },
          "execution_count": 8,
          "metadata": {},
          "output_type": "execute_result"
        },
        {
          "data": {
            "image/png": "[encoded data removed]",
            "text/plain": [
              "<Figure size 640x480 with 1 Axes>"
            ]
          },
          "metadata": {},
          "output_type": "display_data"
        }
      ],
      "source": [
        "import math\n",
        "\n",
        "xmin = cats[\"Hwt\"].min()\n",
        "xmax = cats[\"Hwt\"].max()\n",
        "x_values = [xmin, xmax]\n",
        "ymin = cats[\"Bwt\"].min()\n",
        "ymax = cats[\"Bwt\"].max()\n",
        "y_values = [beta1 * x_values[0] + beta0, beta1 * x_values[1] + beta0]\n",
        "\n",
        "sns.lineplot(x=x_values, y=y_values)\n",
        "sns.scatterplot(x=cats.Hwt, y=cats.Bwt)"
      ]
    },
    {
      "cell_type": "markdown",
      "metadata": {
        "id": "N_nuhta5sOPW"
      },
      "source": [
        "4. Calculate the correlation coefficient and the coefficient of determination.\n"
      ]
    },
    {
      "cell_type": "code",
      "execution_count": 9,
      "metadata": {
        "id": "FbIiTIhbsWqw"
      },
      "outputs": [
        {
          "name": "stdout",
          "output_type": "stream",
          "text": [
            "R : 0.8041\n",
            "R²: 0.6466\n"
          ]
        }
      ],
      "source": [
        "r = np.corrcoef(cats.Hwt, cats.Bwt)[0, 1]\n",
        "\n",
        "print(f\"R : {r:.4f}\")\n",
        "print(f\"R²: {r**2:.4f}\")"
      ]
    },
    {
      "cell_type": "code",
      "execution_count": 10,
      "metadata": {
        "id": "mDifXZugsYVH"
      },
      "outputs": [
        {
          "data": {
            "text/html": [
              "<div>\n",
              "<style scoped>\n",
              "    .dataframe tbody tr th:only-of-type {\n",
              "        vertical-align: middle;\n",
              "    }\n",
              "\n",
              "    .dataframe tbody tr th {\n",
              "        vertical-align: top;\n",
              "    }\n",
              "\n",
              "    .dataframe thead th {\n",
              "        text-align: right;\n",
              "    }\n",
              "</style>\n",
              "<table border=\"1\" class=\"dataframe\">\n",
              "  <thead>\n",
              "    <tr style=\"text-align: right;\">\n",
              "      <th></th>\n",
              "      <th>Hwt</th>\n",
              "      <th>Bwt</th>\n",
              "    </tr>\n",
              "  </thead>\n",
              "  <tbody>\n",
              "    <tr>\n",
              "      <th>Hwt</th>\n",
              "      <td>1.000000</td>\n",
              "      <td>0.804135</td>\n",
              "    </tr>\n",
              "    <tr>\n",
              "      <th>Bwt</th>\n",
              "      <td>0.804135</td>\n",
              "      <td>1.000000</td>\n",
              "    </tr>\n",
              "  </tbody>\n",
              "</table>\n",
              "</div>"
            ],
            "text/plain": [
              "          Hwt       Bwt\n",
              "Hwt  1.000000  0.804135\n",
              "Bwt  0.804135  1.000000"
            ]
          },
          "execution_count": 10,
          "metadata": {},
          "output_type": "execute_result"
        }
      ],
      "source": [
        "cats[[\"Hwt\", \"Bwt\"]].corr()"
      ]
    },
    {
      "cell_type": "markdown",
      "metadata": {
        "id": "lxmsAufqsOQw"
      },
      "source": [
        "5. Interpret the results from the previous steps.\n"
      ]
    },
    {
      "cell_type": "markdown",
      "metadata": {
        "id": "4Bj5nu1UrIGc"
      },
      "source": [
        "### Part 2\n",
        "\n",
        "1. Perform a linear regression analysis on the variables body weight (`Bwt`) and heart weight (`Hwt`), but this time **subdivided by gender** (`Sex`). Use the same dataset (`Cats.csv`).\n"
      ]
    },
    {
      "cell_type": "code",
      "execution_count": 11,
      "metadata": {
        "id": "DKtYHKgBx1uD"
      },
      "outputs": [
        {
          "data": {
            "text/html": [
              "<div>\n",
              "<style scoped>\n",
              "    .dataframe tbody tr th:only-of-type {\n",
              "        vertical-align: middle;\n",
              "    }\n",
              "\n",
              "    .dataframe tbody tr th {\n",
              "        vertical-align: top;\n",
              "    }\n",
              "\n",
              "    .dataframe thead th {\n",
              "        text-align: right;\n",
              "    }\n",
              "</style>\n",
              "<table border=\"1\" class=\"dataframe\">\n",
              "  <thead>\n",
              "    <tr style=\"text-align: right;\">\n",
              "      <th></th>\n",
              "      <th>ID</th>\n",
              "      <th>Sex</th>\n",
              "      <th>Hwt</th>\n",
              "      <th>Bwt</th>\n",
              "    </tr>\n",
              "  </thead>\n",
              "  <tbody>\n",
              "    <tr>\n",
              "      <th>0</th>\n",
              "      <td>1</td>\n",
              "      <td>F</td>\n",
              "      <td>2.0</td>\n",
              "      <td>7.0</td>\n",
              "    </tr>\n",
              "    <tr>\n",
              "      <th>1</th>\n",
              "      <td>2</td>\n",
              "      <td>F</td>\n",
              "      <td>2.0</td>\n",
              "      <td>7.4</td>\n",
              "    </tr>\n",
              "    <tr>\n",
              "      <th>2</th>\n",
              "      <td>3</td>\n",
              "      <td>F</td>\n",
              "      <td>2.0</td>\n",
              "      <td>9.5</td>\n",
              "    </tr>\n",
              "    <tr>\n",
              "      <th>3</th>\n",
              "      <td>4</td>\n",
              "      <td>F</td>\n",
              "      <td>2.1</td>\n",
              "      <td>7.2</td>\n",
              "    </tr>\n",
              "    <tr>\n",
              "      <th>4</th>\n",
              "      <td>5</td>\n",
              "      <td>F</td>\n",
              "      <td>2.1</td>\n",
              "      <td>7.3</td>\n",
              "    </tr>\n",
              "  </tbody>\n",
              "</table>\n",
              "</div>"
            ],
            "text/plain": [
              "   ID Sex  Hwt  Bwt\n",
              "0   1   F  2.0  7.0\n",
              "1   2   F  2.0  7.4\n",
              "2   3   F  2.0  9.5\n",
              "3   4   F  2.1  7.2\n",
              "4   5   F  2.1  7.3"
            ]
          },
          "execution_count": 11,
          "metadata": {},
          "output_type": "execute_result"
        }
      ],
      "source": [
        "cats = pd.read_csv(\n",
        "    \"https://raw.githubusercontent.com/HoGentTIN/dsai-labs/main/data/Cats.csv\"\n",
        ")\n",
        "\n",
        "\n",
        "# Show the first few records of the Data Frame\n",
        "\n",
        "\n",
        "cats.head()"
      ]
    },
    {
      "cell_type": "markdown",
      "metadata": {
        "id": "7-ADXQwBxWj6"
      },
      "source": [
        "2. Draw a scatter plot of both variables for each gender.\n"
      ]
    },
    {
      "cell_type": "code",
      "execution_count": 12,
      "metadata": {
        "id": "A7yLmAG-x2cI"
      },
      "outputs": [
        {
          "data": {
            "text/plain": [
              "<seaborn.axisgrid.FacetGrid at 0x2392d9a22a0>"
            ]
          },
          "execution_count": 12,
          "metadata": {},
          "output_type": "execute_result"
        },
        {
          "data": {
            "image/png": "[encoded data removed]",
            "text/plain": [
              "<Figure size 1000x500 with 2 Axes>"
            ]
          },
          "metadata": {},
          "output_type": "display_data"
        }
      ],
      "source": [
        "sns.lmplot(data=cats, x=\"Hwt\", y=\"Bwt\", col=\"Sex\")"
      ]
    },
    {
      "cell_type": "markdown",
      "metadata": {
        "id": "YQMfLT1PxWsj"
      },
      "source": [
        "3. Calculate and draw the regression line.\n"
      ]
    },
    {
      "cell_type": "code",
      "execution_count": null,
      "metadata": {
        "id": "TfoIC24Lx3C5"
      },
      "outputs": [],
      "source": []
    },
    {
      "cell_type": "code",
      "execution_count": null,
      "metadata": {
        "colab": {
          "base_uri": "https://localhost:8080/"
        },
        "id": "CVXhb7jIyMkh",
        "outputId": "1d840a9f-3f01-4540-eaa4-9fd7028ff1a1"
      },
      "outputs": [],
      "source": []
    },
    {
      "cell_type": "markdown",
      "metadata": {
        "id": "4inevzgYxWxd"
      },
      "source": [
        "4. Calculate the correlation coefficient and the coefficient of determination.\n"
      ]
    },
    {
      "cell_type": "code",
      "execution_count": null,
      "metadata": {
        "id": "AHrHbz__x3oY"
      },
      "outputs": [],
      "source": []
    },
    {
      "cell_type": "markdown",
      "metadata": {
        "id": "fARSjn9sxW0y"
      },
      "source": [
        "5. Interpret the results from the previous steps.\n"
      ]
    },
    {
      "cell_type": "code",
      "execution_count": null,
      "metadata": {
        "id": "Lsmyt9morIGd"
      },
      "outputs": [],
      "source": []
    },
    {
      "cell_type": "markdown",
      "metadata": {
        "id": "-1EydhLVrIGe"
      },
      "source": [
        "### Answers\n",
        "\n",
        "| Selection |  $\\beta_0$ | $\\beta_1$ |       $R$ |     $R^2$ |\n",
        "| :-------- | ---------: | --------: | --------: | --------: |\n",
        "| All       | -0.3510784 | 4.0317575 | 0.8041348 | 0.6466328 |\n",
        "| Male      | -1.1768253 | 4.3098189 | 0.7930443 | 0.6289193 |\n",
        "| Female    |  2.9813124 |  2.636414 | 0.5320497 | 0.2830768 |\n"
      ]
    }
  ],
  "metadata": {
    "colab": {
      "provenance": []
    },
    "kernelspec": {
      "display_name": "Python 3",
      "name": "python3"
    },
    "language_info": {
      "codemirror_mode": {
        "name": "ipython",
        "version": 3
      },
      "file_extension": ".py",
      "mimetype": "text/x-python",
      "name": "python",
      "nbconvert_exporter": "python",
      "pygments_lexer": "ipython3",
      "version": "3.12.3"
    },
    "orig_nbformat": 4
  },
  "nbformat": 4,
  "nbformat_minor": 0
}
